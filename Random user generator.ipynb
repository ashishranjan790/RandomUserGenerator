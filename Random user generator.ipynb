{
 "cells": [
  {
   "cell_type": "code",
   "execution_count": 1,
   "metadata": {},
   "outputs": [
    {
     "name": "stdout",
     "output_type": "stream",
     "text": [
      "Defaulting to user installation because normal site-packages is not writeable\n",
      "Collecting randomuser\n",
      "  Downloading randomuser-1.6.tar.gz (5.0 kB)\n",
      "  Preparing metadata (setup.py): started\n",
      "  Preparing metadata (setup.py): finished with status 'done'\n",
      "Installing collected packages: randomuser\n",
      "  Running setup.py install for randomuser: started\n",
      "  Running setup.py install for randomuser: finished with status 'done'\n",
      "Successfully installed randomuser-1.6\n"
     ]
    },
    {
     "name": "stderr",
     "output_type": "stream",
     "text": [
      "  DEPRECATION: randomuser is being installed using the legacy 'setup.py install' method, because it does not have a 'pyproject.toml' and the 'wheel' package is not installed. pip 23.1 will enforce this behaviour change. A possible replacement is to enable the '--use-pep517' option. Discussion can be found at https://github.com/pypa/pip/issues/8559\n"
     ]
    }
   ],
   "source": [
    "!pip install randomuser"
   ]
  },
  {
   "cell_type": "code",
   "execution_count": 2,
   "metadata": {},
   "outputs": [],
   "source": [
    "from randomuser import RandomUser\n",
    "import pandas as pd"
   ]
  },
  {
   "cell_type": "code",
   "execution_count": 3,
   "metadata": {},
   "outputs": [],
   "source": [
    "r = RandomUser()"
   ]
  },
  {
   "cell_type": "code",
   "execution_count": 4,
   "metadata": {},
   "outputs": [],
   "source": [
    "some_list = r.generate_users(10)"
   ]
  },
  {
   "cell_type": "code",
   "execution_count": 5,
   "metadata": {},
   "outputs": [
    {
     "data": {
      "text/plain": [
       "[<randomuser.RandomUser at 0x1881ecb60e0>,\n",
       " <randomuser.RandomUser at 0x1881ecb4ca0>,\n",
       " <randomuser.RandomUser at 0x1881ecb5ea0>,\n",
       " <randomuser.RandomUser at 0x18826fbdc60>,\n",
       " <randomuser.RandomUser at 0x18826fbdb40>,\n",
       " <randomuser.RandomUser at 0x18826fbdbd0>,\n",
       " <randomuser.RandomUser at 0x18826fbd600>,\n",
       " <randomuser.RandomUser at 0x18826fbdb70>,\n",
       " <randomuser.RandomUser at 0x18826fbdd50>,\n",
       " <randomuser.RandomUser at 0x18826fbdba0>]"
      ]
     },
     "execution_count": 5,
     "metadata": {},
     "output_type": "execute_result"
    }
   ],
   "source": [
    "some_list"
   ]
  },
  {
   "cell_type": "code",
   "execution_count": 6,
   "metadata": {},
   "outputs": [],
   "source": [
    "name = r.get_full_name()"
   ]
  },
  {
   "cell_type": "code",
   "execution_count": 7,
   "metadata": {},
   "outputs": [
    {
     "name": "stdout",
     "output_type": "stream",
     "text": [
      "Silvan Rey   silvan.rey@example.com\n",
      "Laila Ziemann   laila.ziemann@example.com\n",
      "Emil Jarvela   emil.jarvela@example.com\n",
      "Herbert Pierre   herbert.pierre@example.com\n",
      "Anaizi Jesus   anaizi.jesus@example.com\n",
      "Jiri Gerhard   jiri.gerhard@example.com\n",
      "Edgar Stewart   edgar.stewart@example.com\n",
      "Kelly Kelley   kelly.kelley@example.com\n",
      "Keira Thompson   keira.thompson@example.com\n",
      "Alma Stormoen   alma.stormoen@example.com\n"
     ]
    }
   ],
   "source": [
    "for user in some_list:\n",
    "    print (user.get_full_name(),\" \",user.get_email())"
   ]
  },
  {
   "cell_type": "code",
   "execution_count": 8,
   "metadata": {},
   "outputs": [
    {
     "name": "stdout",
     "output_type": "stream",
     "text": [
      "https://randomuser.me/api/portraits/men/94.jpg\n",
      "https://randomuser.me/api/portraits/women/75.jpg\n",
      "https://randomuser.me/api/portraits/men/88.jpg\n",
      "https://randomuser.me/api/portraits/men/94.jpg\n",
      "https://randomuser.me/api/portraits/women/28.jpg\n",
      "https://randomuser.me/api/portraits/men/94.jpg\n",
      "https://randomuser.me/api/portraits/men/44.jpg\n",
      "https://randomuser.me/api/portraits/men/97.jpg\n",
      "https://randomuser.me/api/portraits/women/40.jpg\n",
      "https://randomuser.me/api/portraits/women/30.jpg\n"
     ]
    }
   ],
   "source": [
    "for user in some_list:\n",
    "    print (user.get_picture())"
   ]
  },
  {
   "cell_type": "code",
   "execution_count": 13,
   "metadata": {},
   "outputs": [],
   "source": [
    "def get_users():\n",
    "    users =[]\n",
    "     \n",
    "    for user in RandomUser.generate_users(10):\n",
    "        users.append({\"Name\":user.get_full_name(),\"Gender\":user.get_gender(),\"City\":user.get_city(),\"State\":user.get_state(),\"Email\":user.get_email(), \"DOB\":user.get_dob(),\"Picture\":user.get_picture()})\n",
    "      \n",
    "    return pd.DataFrame(users)     \n",
    "    "
   ]
  },
  {
   "cell_type": "code",
   "execution_count": 14,
   "metadata": {},
   "outputs": [
    {
     "data": {
      "text/html": [
       "<div>\n",
       "<style scoped>\n",
       "    .dataframe tbody tr th:only-of-type {\n",
       "        vertical-align: middle;\n",
       "    }\n",
       "\n",
       "    .dataframe tbody tr th {\n",
       "        vertical-align: top;\n",
       "    }\n",
       "\n",
       "    .dataframe thead th {\n",
       "        text-align: right;\n",
       "    }\n",
       "</style>\n",
       "<table border=\"1\" class=\"dataframe\">\n",
       "  <thead>\n",
       "    <tr style=\"text-align: right;\">\n",
       "      <th></th>\n",
       "      <th>Name</th>\n",
       "      <th>Gender</th>\n",
       "      <th>City</th>\n",
       "      <th>State</th>\n",
       "      <th>Email</th>\n",
       "      <th>DOB</th>\n",
       "      <th>Picture</th>\n",
       "    </tr>\n",
       "  </thead>\n",
       "  <tbody>\n",
       "    <tr>\n",
       "      <th>0</th>\n",
       "      <td>Inka Lemke</td>\n",
       "      <td>female</td>\n",
       "      <td>Norderney</td>\n",
       "      <td>Niedersachsen</td>\n",
       "      <td>inka.lemke@example.com</td>\n",
       "      <td>1964-03-20T02:09:02.108Z</td>\n",
       "      <td>https://randomuser.me/api/portraits/women/92.jpg</td>\n",
       "    </tr>\n",
       "    <tr>\n",
       "      <th>1</th>\n",
       "      <td>Christian Kennedy</td>\n",
       "      <td>male</td>\n",
       "      <td>Australian Capital Territory</td>\n",
       "      <td>South Australia</td>\n",
       "      <td>christian.kennedy@example.com</td>\n",
       "      <td>1967-07-27T07:17:46.496Z</td>\n",
       "      <td>https://randomuser.me/api/portraits/men/61.jpg</td>\n",
       "    </tr>\n",
       "    <tr>\n",
       "      <th>2</th>\n",
       "      <td>Victor Park</td>\n",
       "      <td>male</td>\n",
       "      <td>Delisle</td>\n",
       "      <td>Northwest Territories</td>\n",
       "      <td>victor.park@example.com</td>\n",
       "      <td>1963-12-19T08:43:20.797Z</td>\n",
       "      <td>https://randomuser.me/api/portraits/men/26.jpg</td>\n",
       "    </tr>\n",
       "    <tr>\n",
       "      <th>3</th>\n",
       "      <td>Doris Burton</td>\n",
       "      <td>female</td>\n",
       "      <td>Bendigo</td>\n",
       "      <td>Victoria</td>\n",
       "      <td>doris.burton@example.com</td>\n",
       "      <td>1995-03-18T18:58:00.292Z</td>\n",
       "      <td>https://randomuser.me/api/portraits/women/28.jpg</td>\n",
       "    </tr>\n",
       "    <tr>\n",
       "      <th>4</th>\n",
       "      <td>Marilde Souza</td>\n",
       "      <td>female</td>\n",
       "      <td>Santa Bárbara D'Oeste</td>\n",
       "      <td>Amapá</td>\n",
       "      <td>marilde.souza@example.com</td>\n",
       "      <td>1988-06-02T03:54:17.719Z</td>\n",
       "      <td>https://randomuser.me/api/portraits/women/11.jpg</td>\n",
       "    </tr>\n",
       "    <tr>\n",
       "      <th>5</th>\n",
       "      <td>Miguel Dumas</td>\n",
       "      <td>male</td>\n",
       "      <td>Erlinsbach (Ag)</td>\n",
       "      <td>Vaud</td>\n",
       "      <td>miguel.dumas@example.com</td>\n",
       "      <td>1990-07-25T05:32:57.967Z</td>\n",
       "      <td>https://randomuser.me/api/portraits/men/74.jpg</td>\n",
       "    </tr>\n",
       "    <tr>\n",
       "      <th>6</th>\n",
       "      <td>Elena Caballero</td>\n",
       "      <td>female</td>\n",
       "      <td>Castellón de la Plana</td>\n",
       "      <td>Región de Murcia</td>\n",
       "      <td>elena.caballero@example.com</td>\n",
       "      <td>1954-10-27T06:57:22.438Z</td>\n",
       "      <td>https://randomuser.me/api/portraits/women/63.jpg</td>\n",
       "    </tr>\n",
       "    <tr>\n",
       "      <th>7</th>\n",
       "      <td>Jesus Jennings</td>\n",
       "      <td>male</td>\n",
       "      <td>Thornton</td>\n",
       "      <td>Maine</td>\n",
       "      <td>jesus.jennings@example.com</td>\n",
       "      <td>1992-09-20T10:26:08.378Z</td>\n",
       "      <td>https://randomuser.me/api/portraits/men/57.jpg</td>\n",
       "    </tr>\n",
       "    <tr>\n",
       "      <th>8</th>\n",
       "      <td>Gabrielle Roger</td>\n",
       "      <td>female</td>\n",
       "      <td>Mulhouse</td>\n",
       "      <td>Saône-et-Loire</td>\n",
       "      <td>gabrielle.roger@example.com</td>\n",
       "      <td>1974-06-12T12:09:47.884Z</td>\n",
       "      <td>https://randomuser.me/api/portraits/women/45.jpg</td>\n",
       "    </tr>\n",
       "    <tr>\n",
       "      <th>9</th>\n",
       "      <td>Zoe Burns</td>\n",
       "      <td>female</td>\n",
       "      <td>Newry</td>\n",
       "      <td>Worcestershire</td>\n",
       "      <td>zoe.burns@example.com</td>\n",
       "      <td>1984-07-13T15:37:22.649Z</td>\n",
       "      <td>https://randomuser.me/api/portraits/women/58.jpg</td>\n",
       "    </tr>\n",
       "  </tbody>\n",
       "</table>\n",
       "</div>"
      ],
      "text/plain": [
       "                Name  Gender                          City  \\\n",
       "0         Inka Lemke  female                     Norderney   \n",
       "1  Christian Kennedy    male  Australian Capital Territory   \n",
       "2        Victor Park    male                       Delisle   \n",
       "3       Doris Burton  female                       Bendigo   \n",
       "4      Marilde Souza  female         Santa Bárbara D'Oeste   \n",
       "5       Miguel Dumas    male               Erlinsbach (Ag)   \n",
       "6    Elena Caballero  female         Castellón de la Plana   \n",
       "7     Jesus Jennings    male                      Thornton   \n",
       "8    Gabrielle Roger  female                      Mulhouse   \n",
       "9          Zoe Burns  female                         Newry   \n",
       "\n",
       "                   State                          Email  \\\n",
       "0          Niedersachsen         inka.lemke@example.com   \n",
       "1        South Australia  christian.kennedy@example.com   \n",
       "2  Northwest Territories        victor.park@example.com   \n",
       "3               Victoria       doris.burton@example.com   \n",
       "4                  Amapá      marilde.souza@example.com   \n",
       "5                   Vaud       miguel.dumas@example.com   \n",
       "6       Región de Murcia    elena.caballero@example.com   \n",
       "7                  Maine     jesus.jennings@example.com   \n",
       "8         Saône-et-Loire    gabrielle.roger@example.com   \n",
       "9         Worcestershire          zoe.burns@example.com   \n",
       "\n",
       "                        DOB                                           Picture  \n",
       "0  1964-03-20T02:09:02.108Z  https://randomuser.me/api/portraits/women/92.jpg  \n",
       "1  1967-07-27T07:17:46.496Z    https://randomuser.me/api/portraits/men/61.jpg  \n",
       "2  1963-12-19T08:43:20.797Z    https://randomuser.me/api/portraits/men/26.jpg  \n",
       "3  1995-03-18T18:58:00.292Z  https://randomuser.me/api/portraits/women/28.jpg  \n",
       "4  1988-06-02T03:54:17.719Z  https://randomuser.me/api/portraits/women/11.jpg  \n",
       "5  1990-07-25T05:32:57.967Z    https://randomuser.me/api/portraits/men/74.jpg  \n",
       "6  1954-10-27T06:57:22.438Z  https://randomuser.me/api/portraits/women/63.jpg  \n",
       "7  1992-09-20T10:26:08.378Z    https://randomuser.me/api/portraits/men/57.jpg  \n",
       "8  1974-06-12T12:09:47.884Z  https://randomuser.me/api/portraits/women/45.jpg  \n",
       "9  1984-07-13T15:37:22.649Z  https://randomuser.me/api/portraits/women/58.jpg  "
      ]
     },
     "execution_count": 14,
     "metadata": {},
     "output_type": "execute_result"
    }
   ],
   "source": [
    "get_users()"
   ]
  }
 ],
 "metadata": {
  "kernelspec": {
   "display_name": "Python 3",
   "language": "python",
   "name": "python3"
  },
  "language_info": {
   "codemirror_mode": {
    "name": "ipython",
    "version": 3
   },
   "file_extension": ".py",
   "mimetype": "text/x-python",
   "name": "python",
   "nbconvert_exporter": "python",
   "pygments_lexer": "ipython3",
   "version": "3.10.7 (tags/v3.10.7:6cc6b13, Sep  5 2022, 14:08:36) [MSC v.1933 64 bit (AMD64)]"
  },
  "orig_nbformat": 4,
  "vscode": {
   "interpreter": {
    "hash": "26de051ba29f2982a8de78e945f0abaf191376122a1563185a90213a26c5da77"
   }
  }
 },
 "nbformat": 4,
 "nbformat_minor": 2
}
